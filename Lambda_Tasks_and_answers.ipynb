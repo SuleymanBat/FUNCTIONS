{
  "cells": [
    {
      "cell_type": "markdown",
      "metadata": {
        "id": "view-in-github",
        "colab_type": "text"
      },
      "source": [
        "<a href=\"https://colab.research.google.com/github/SuleymanBat/FUNCTIONS/blob/main/Lambda_Tasks_and_answers.ipynb\" target=\"_parent\"><img src=\"https://colab.research.google.com/assets/colab-badge.svg\" alt=\"Open In Colab\"/></a>"
      ]
    },
    {
      "cell_type": "markdown",
      "source": [
        "**Examples with Lambda fuctions**"
      ],
      "metadata": {
        "id": "BRr3vqV8Tx81"
      }
    },
    {
      "cell_type": "code",
      "source": [
        "condition = True\n",
        "\"odd\" if condition else \"even\""
      ],
      "metadata": {
        "colab": {
          "base_uri": "https://localhost:8080/",
          "height": 35
        },
        "id": "8VKw9JRtSDMV",
        "outputId": "105cc9fb-4288-4107-c06f-c3d12a9b9fb2"
      },
      "execution_count": 4,
      "outputs": [
        {
          "output_type": "execute_result",
          "data": {
            "text/plain": [
              "'odd'"
            ],
            "application/vnd.google.colaboratory.intrinsic+json": {
              "type": "string"
            }
          },
          "metadata": {},
          "execution_count": 4
        }
      ]
    },
    {
      "cell_type": "code",
      "source": [
        "condition = False\n",
        "\"odd\" if condition else \"even\""
      ],
      "metadata": {
        "colab": {
          "base_uri": "https://localhost:8080/",
          "height": 35
        },
        "id": "HSo4KOFcULrf",
        "outputId": "ed587593-bc88-48fa-bfcc-d48b5718716b"
      },
      "execution_count": 3,
      "outputs": [
        {
          "output_type": "execute_result",
          "data": {
            "text/plain": [
              "'even'"
            ],
            "application/vnd.google.colaboratory.intrinsic+json": {
              "type": "string"
            }
          },
          "metadata": {},
          "execution_count": 3
        }
      ]
    },
    {
      "cell_type": "markdown",
      "source": [
        "The formula syntax for Lambda is;\n",
        "\n",
        "\n",
        "**(lambda parameters: expression)(arguments)**"
      ],
      "metadata": {
        "id": "8_fQzsz5U1EB"
      }
    },
    {
      "cell_type": "code",
      "source": [
        "print((lambda a: a**2)(3))"
      ],
      "metadata": {
        "colab": {
          "base_uri": "https://localhost:8080/"
        },
        "id": "NCT2FS6wUkL2",
        "outputId": "3e7abf8d-a62c-4ba4-e956-cf55857f63f5"
      },
      "execution_count": 5,
      "outputs": [
        {
          "output_type": "stream",
          "name": "stdout",
          "text": [
            "9\n"
          ]
        }
      ]
    },
    {
      "cell_type": "markdown",
      "source": [
        "**Usage with multiple arguments**"
      ],
      "metadata": {
        "id": "ja4exK8lVctr"
      }
    },
    {
      "cell_type": "code",
      "source": [
        "#Variation1\n",
        "print((lambda x, y: (x+y)/2)(4,7)) # takes two integer and returns mean of them"
      ],
      "metadata": {
        "colab": {
          "base_uri": "https://localhost:8080/"
        },
        "id": "4HxY-bTVVWfN",
        "outputId": "5e15fa5c-924a-426d-d9ca-78ea8d6eb27c"
      },
      "execution_count": 6,
      "outputs": [
        {
          "output_type": "stream",
          "name": "stdout",
          "text": [
            "5.5\n"
          ]
        }
      ]
    },
    {
      "cell_type": "code",
      "source": [
        "#Variation2\n",
        "meann = (lambda x, y: (x+y)/2)(4,7) # we assigned lambda to a feature\n",
        "print(meann)"
      ],
      "metadata": {
        "colab": {
          "base_uri": "https://localhost:8080/"
        },
        "id": "PdZweC6MV_Pz",
        "outputId": "af5e21a8-50a2-46f9-ebc3-1ab87bfb165f"
      },
      "execution_count": 8,
      "outputs": [
        {
          "output_type": "stream",
          "name": "stdout",
          "text": [
            "5.5\n"
          ]
        }
      ]
    },
    {
      "cell_type": "code",
      "source": [
        "(lambda x: \"odd\" if x % 2 != 0 else \"even\")(5)"
      ],
      "metadata": {
        "colab": {
          "base_uri": "https://localhost:8080/",
          "height": 35
        },
        "id": "4zLPB3xAWMey",
        "outputId": "77dd26af-a132-436d-8fca-ed23c8d8dfee"
      },
      "execution_count": 9,
      "outputs": [
        {
          "output_type": "execute_result",
          "data": {
            "text/plain": [
              "'odd'"
            ],
            "application/vnd.google.colaboratory.intrinsic+json": {
              "type": "string"
            }
          },
          "metadata": {},
          "execution_count": 9
        }
      ]
    },
    {
      "cell_type": "markdown",
      "source": [
        "TASK:\n",
        "Define a lambda function to reverse the elements of any iterables. Use paranthesis for arguments and print the result."
      ],
      "metadata": {
        "id": "qYcB5TMvW84o"
      }
    },
    {
      "cell_type": "code",
      "source": [
        "print((lambda x: x[::-1])([1,2,3])) # we can reach a solution with indexing in any given list"
      ],
      "metadata": {
        "colab": {
          "base_uri": "https://localhost:8080/"
        },
        "id": "MadjGLoeXJ1U",
        "outputId": "dcd5e94d-245f-45bc-a4b9-6078eb4c8585"
      },
      "execution_count": 16,
      "outputs": [
        {
          "output_type": "stream",
          "name": "stdout",
          "text": [
            "[3, 2, 1]\n"
          ]
        }
      ]
    },
    {
      "cell_type": "code",
      "source": [
        "print((lambda x: x[::-1])(\"PETER\"))"
      ],
      "metadata": {
        "colab": {
          "base_uri": "https://localhost:8080/"
        },
        "id": "Z_WUMm1bYyYY",
        "outputId": "452fc5b2-32f0-4418-c33e-c82f1e3fc2ae"
      },
      "execution_count": 17,
      "outputs": [
        {
          "output_type": "stream",
          "name": "stdout",
          "text": [
            "RETEP\n"
          ]
        }
      ]
    },
    {
      "cell_type": "code",
      "source": [
        "(lambda x: x[::-1])(\"PETER\")"
      ],
      "metadata": {
        "colab": {
          "base_uri": "https://localhost:8080/",
          "height": 35
        },
        "id": "nvAAuLuwZRjG",
        "outputId": "b716e55e-20c4-47d2-ebf8-fa1a2ce73f20"
      },
      "execution_count": 18,
      "outputs": [
        {
          "output_type": "execute_result",
          "data": {
            "text/plain": [
              "'RETEP'"
            ],
            "application/vnd.google.colaboratory.intrinsic+json": {
              "type": "string"
            }
          },
          "metadata": {},
          "execution_count": 18
        }
      ]
    },
    {
      "cell_type": "markdown",
      "source": [
        "TASK:\n",
        "Write a python program that types \"even\" or 'odd' in accordance with the numbers in a list.\n",
        "Use lambda function and loop. Sample list and Desired output should be a list like that [1,2,3,4]"
      ],
      "metadata": {
        "id": "jX2-jltWZbHl"
      }
    },
    {
      "cell_type": "code",
      "source": [
        "numbers = [1,2,3,4]\n",
        "for i in numbers:\n",
        "  print(i, \":\", (lambda x: \"odd\" if x % 2 != 0 else \"even\")(i))\n",
        "  \n"
      ],
      "metadata": {
        "colab": {
          "base_uri": "https://localhost:8080/"
        },
        "id": "NeTgzl8ZZ-uh",
        "outputId": "1fb4e0da-1cab-4ac8-ff43-1794af4742c3"
      },
      "execution_count": 28,
      "outputs": [
        {
          "output_type": "stream",
          "name": "stdout",
          "text": [
            "1 : odd\n",
            "2 : even\n",
            "3 : odd\n",
            "4 : even\n"
          ]
        }
      ]
    },
    {
      "cell_type": "markdown",
      "source": [
        "The code can be like that;"
      ],
      "metadata": {
        "id": "MkcjP3xqe_iP"
      }
    },
    {
      "cell_type": "code",
      "source": [
        "for a in [3,7,22,-9]:\n",
        "  print(a, \":\", (lambda a: \"odd\" if a%2 != 0 else \"even\")(a))"
      ],
      "metadata": {
        "colab": {
          "base_uri": "https://localhost:8080/"
        },
        "id": "aVW0jebEcZPY",
        "outputId": "c43b8383-5bfe-4b65-8cee-aed50c14f943"
      },
      "execution_count": 29,
      "outputs": [
        {
          "output_type": "stream",
          "name": "stdout",
          "text": [
            "3 : odd\n",
            "7 : odd\n",
            "22 : even\n",
            "-9 : odd\n"
          ]
        }
      ]
    },
    {
      "cell_type": "markdown",
      "source": [
        "TASK:\n",
        "Define a lambda function to reverse the elements of any iterables.Use variable for arguments and print the result."
      ],
      "metadata": {
        "id": "UANP-UEqj43i"
      }
    },
    {
      "cell_type": "code",
      "source": [
        "iterable = \"addictive on DevOps\"\n",
        "rever = (lambda x: x[::-1])\n",
        "rever(iterable)"
      ],
      "metadata": {
        "colab": {
          "base_uri": "https://localhost:8080/",
          "height": 35
        },
        "id": "WKumjEmzfc_3",
        "outputId": "b4c4134f-8acc-468d-f511-12e0cafb3d60"
      },
      "execution_count": 31,
      "outputs": [
        {
          "output_type": "execute_result",
          "data": {
            "text/plain": [
              "'spOveD no evitcidda'"
            ],
            "application/vnd.google.colaboratory.intrinsic+json": {
              "type": "string"
            }
          },
          "metadata": {},
          "execution_count": 31
        }
      ]
    },
    {
      "cell_type": "code",
      "source": [
        "solver = lambda x: \"odd\" if x % 2 != 0 else \"even\"\n",
        "solver(77)"
      ],
      "metadata": {
        "colab": {
          "base_uri": "https://localhost:8080/",
          "height": 35
        },
        "id": "60NCXCjJk4rt",
        "outputId": "fc36cd5b-4894-4268-da1c-7b11f9f8924a"
      },
      "execution_count": 32,
      "outputs": [
        {
          "output_type": "execute_result",
          "data": {
            "text/plain": [
              "'odd'"
            ],
            "application/vnd.google.colaboratory.intrinsic+json": {
              "type": "string"
            }
          },
          "metadata": {},
          "execution_count": 32
        }
      ]
    },
    {
      "cell_type": "code",
      "source": [
        "solver(1118)"
      ],
      "metadata": {
        "colab": {
          "base_uri": "https://localhost:8080/",
          "height": 35
        },
        "id": "yOlGflC8lT7L",
        "outputId": "768cc704-7043-4db9-c70b-32586965b83a"
      },
      "execution_count": 33,
      "outputs": [
        {
          "output_type": "execute_result",
          "data": {
            "text/plain": [
              "'even'"
            ],
            "application/vnd.google.colaboratory.intrinsic+json": {
              "type": "string"
            }
          },
          "metadata": {},
          "execution_count": 33
        }
      ]
    },
    {
      "cell_type": "markdown",
      "source": [
        "**LAMBDA WITHIN map() function**\n",
        "\n",
        "The formula for map is;\n",
        "\n",
        "**map(function, iterable)**"
      ],
      "metadata": {
        "id": "sy30cLa1ltAo"
      }
    },
    {
      "cell_type": "code",
      "source": [
        "  words = [\"james\", \"michael\", \"kevin\",\"alex\"]\n",
        "  longi = map(len, words)\n",
        "  print(* longi)"
      ],
      "metadata": {
        "colab": {
          "base_uri": "https://localhost:8080/"
        },
        "id": "XoXhXlo1lbBw",
        "outputId": "bae8242f-deea-46ae-e365-f64d5cee9af4"
      },
      "execution_count": 34,
      "outputs": [
        {
          "output_type": "stream",
          "name": "stdout",
          "text": [
            "5 7 5 4\n"
          ]
        }
      ]
    },
    {
      "cell_type": "markdown",
      "source": [
        "Let's square all the numbers in the list using map() function and lambda."
      ],
      "metadata": {
        "id": "We_ZxMcjnO7e"
      }
    },
    {
      "cell_type": "code",
      "source": [
        "iterabble = [1,2,3,4,5,6]\n",
        "map(lambda a:a**2, iterabble)\n",
        "output = map(lambda a:a**2, iterabble)\n",
        "print(type(output))\n",
        "\n",
        "print(list(output))\n",
        "\n",
        "print(list(map(lambda a:a**2, iterabble)))"
      ],
      "metadata": {
        "colab": {
          "base_uri": "https://localhost:8080/"
        },
        "id": "YRPZvz5XnAwj",
        "outputId": "1dc6710d-7608-4745-c225-8f62a55dca08"
      },
      "execution_count": 36,
      "outputs": [
        {
          "output_type": "stream",
          "name": "stdout",
          "text": [
            "<class 'map'>\n",
            "[1, 4, 9, 16, 25, 36]\n",
            "[1, 4, 9, 16, 25, 36]\n"
          ]
        }
      ]
    },
    {
      "cell_type": "code",
      "source": [
        "def square(b):\n",
        "  return b ** 2\n",
        "\n",
        "resullt = map(square, iterabble)\n",
        "resullt"
      ],
      "metadata": {
        "colab": {
          "base_uri": "https://localhost:8080/"
        },
        "id": "tupZV8RTn_Ud",
        "outputId": "bdc3ce91-f31b-4f21-c9f3-1a66a42d4ed9"
      },
      "execution_count": 38,
      "outputs": [
        {
          "output_type": "execute_result",
          "data": {
            "text/plain": [
              "<map at 0x7f0554144bd0>"
            ]
          },
          "metadata": {},
          "execution_count": 38
        }
      ]
    },
    {
      "cell_type": "code",
      "source": [
        "print(* resullt)"
      ],
      "metadata": {
        "colab": {
          "base_uri": "https://localhost:8080/"
        },
        "id": "9rHHoA3cpW66",
        "outputId": "2935bc08-0d6a-44c7-bde0-d4be190a99b0"
      },
      "execution_count": 39,
      "outputs": [
        {
          "output_type": "stream",
          "name": "stdout",
          "text": [
            "1 4 9 16 25 36\n"
          ]
        }
      ]
    },
    {
      "cell_type": "code",
      "source": [
        "summ = lambda x, y, z, w : x + y + z + w"
      ],
      "metadata": {
        "id": "d3SMjLdApcoh"
      },
      "execution_count": 46,
      "outputs": []
    },
    {
      "cell_type": "code",
      "source": [
        "summ(\"j\",\"a\",\"n\",\"e\")"
      ],
      "metadata": {
        "colab": {
          "base_uri": "https://localhost:8080/",
          "height": 35
        },
        "id": "XJXcxce7pydx",
        "outputId": "bd0bf51f-5414-4b72-b755-bec89b05769f"
      },
      "execution_count": 47,
      "outputs": [
        {
          "output_type": "execute_result",
          "data": {
            "text/plain": [
              "'jane'"
            ],
            "application/vnd.google.colaboratory.intrinsic+json": {
              "type": "string"
            }
          },
          "metadata": {},
          "execution_count": 47
        }
      ]
    },
    {
      "cell_type": "markdown",
      "source": [
        "Example:\n",
        "In the example below we have combined three strings using + operator in lambda definition."
      ],
      "metadata": {
        "id": "xxnoWpEoqYiG"
      }
    },
    {
      "cell_type": "code",
      "source": [
        "alpha1 = ['o','s','t','t']\n",
        "alpha2 = ['n','i','e','w']\n",
        "alpha3 = ['e','x','n','o']\n",
        "numbers = map(lambda x, y, z: x+y+z, alpha1,alpha2,alpha3)\n",
        "\n",
        "print(list(numbers))"
      ],
      "metadata": {
        "colab": {
          "base_uri": "https://localhost:8080/"
        },
        "id": "kw675hFwqItI",
        "outputId": "42d6e3bc-511c-4eb7-b7fb-fbd72f7eb7c6"
      },
      "execution_count": 48,
      "outputs": [
        {
          "output_type": "stream",
          "name": "stdout",
          "text": [
            "['one', 'six', 'ten', 'two']\n"
          ]
        }
      ]
    },
    {
      "cell_type": "markdown",
      "source": [
        "TASK:\n",
        "Using lambda in map() function write a program that calculates the arithmetic means of two element pairs in the following two lists in accordance with their order and collects them into a list.\n",
        "\n",
        "numar = [3,6,7,8]\n",
        "\n",
        "numar1 = [1,8,4,3]"
      ],
      "metadata": {
        "id": "QBprc__wr6pt"
      }
    },
    {
      "cell_type": "code",
      "source": [
        "solve = lambda a, b : (a + b) / 2\n",
        "numar = [3,6,7,8]\n",
        "numar1 = [1,8,4,3]\n",
        "numbers = map(solve, numar, numar1)\n",
        "list(numbers)"
      ],
      "metadata": {
        "colab": {
          "base_uri": "https://localhost:8080/"
        },
        "id": "Z6bJHtUCsfDr",
        "outputId": "dd717b41-db61-41cd-d27f-db3b9548daec"
      },
      "execution_count": 49,
      "outputs": [
        {
          "output_type": "execute_result",
          "data": {
            "text/plain": [
              "[2.0, 7.0, 5.5, 5.5]"
            ]
          },
          "metadata": {},
          "execution_count": 49
        }
      ]
    },
    {
      "cell_type": "code",
      "source": [
        "# EXAMPLE\n",
        "words1 = ['you', 'much', ' hard']\n",
        "words2= ['i','you','he']\n",
        "words3= ['love','ate','works']\n",
        "\n",
        "concat = lambda x, y, z : x + \" \" + y + \" \" + z\n",
        "sentences = map(concat, words2, words3, words1)\n",
        "sentences"
      ],
      "metadata": {
        "colab": {
          "base_uri": "https://localhost:8080/"
        },
        "id": "_W-EwUDktnX6",
        "outputId": "ff4bd5c7-d3cf-4577-b721-757741806982"
      },
      "execution_count": 51,
      "outputs": [
        {
          "output_type": "execute_result",
          "data": {
            "text/plain": [
              "<map at 0x7f0554039150>"
            ]
          },
          "metadata": {},
          "execution_count": 51
        }
      ]
    },
    {
      "cell_type": "code",
      "source": [
        "for i in sentences:\n",
        "  print(i)"
      ],
      "metadata": {
        "colab": {
          "base_uri": "https://localhost:8080/"
        },
        "id": "JCWIMZFawq7n",
        "outputId": "48a51ff0-2804-48c6-c5b7-cd35b684c840"
      },
      "execution_count": 52,
      "outputs": [
        {
          "output_type": "stream",
          "name": "stdout",
          "text": [
            "i love you\n",
            "you ate much\n",
            "he works  hard\n"
          ]
        }
      ]
    },
    {
      "cell_type": "markdown",
      "source": [
        "**LAMBDA within filter() function**\n",
        "\n",
        "The basic formula is:\n",
        "\n",
        "filter(function, sequence)"
      ],
      "metadata": {
        "id": "HjdGJa5KxgcG"
      }
    },
    {
      "cell_type": "code",
      "source": [
        "first=[0,1,2,3,4,5,6,7,8,9]\n",
        "\n",
        "even = filter(lambda x:x%2==0, first)\n",
        "print(type(even))\n",
        "print('Even numbers are :', list(even))"
      ],
      "metadata": {
        "colab": {
          "base_uri": "https://localhost:8080/"
        },
        "id": "9VKDCyVFw0Pe",
        "outputId": "b77b70e9-8fd1-492f-9735-c9188b3e9db0"
      },
      "execution_count": 1,
      "outputs": [
        {
          "output_type": "stream",
          "name": "stdout",
          "text": [
            "<class 'filter'>\n",
            "Even numbers are : [0, 2, 4, 6, 8]\n"
          ]
        }
      ]
    },
    {
      "cell_type": "code",
      "source": [
        "first=[0,1,2,3,4,5,6,7,8,9]\n",
        "\n",
        "odd = filter(lambda x:x%2 == 1, first)\n",
        "odd1 = filter(lambda x:x%2 != 0, first)\n",
        "odd2 = filter(lambda x: not x%2 == 0, first)\n",
        "odd3 = filter(lambda x:x%2, first)\n",
        "\n",
        "print('Odd numbers are :', list(odd))\n",
        "print(* odd2)\n",
        "print(* odd1)\n",
        "print(* odd3)"
      ],
      "metadata": {
        "colab": {
          "base_uri": "https://localhost:8080/"
        },
        "id": "8HLGBEogyuaC",
        "outputId": "2db0918f-afe9-4a01-92f8-256e299cdeb4"
      },
      "execution_count": 6,
      "outputs": [
        {
          "output_type": "stream",
          "name": "stdout",
          "text": [
            "Odd numbers are : [1, 3, 5, 7, 9]\n",
            "1 3 5 7 9\n",
            "1 3 5 7 9\n",
            "1 3 5 7 9\n"
          ]
        }
      ]
    },
    {
      "cell_type": "markdown",
      "source": [
        "TASK:\n",
        "Using lambda in filter() function, write a program that filters out words(elements of the given list) with less than 5 chars.\n",
        "\n",
        "Print these words which has less than 5 chars on separate lines.\n",
        "\n",
        "words = ['apple','swim','clock','me','kiwi','banana']"
      ],
      "metadata": {
        "id": "ETZyRPjG1L7u"
      }
    },
    {
      "cell_type": "code",
      "source": [
        "len(\"apple\")"
      ],
      "metadata": {
        "colab": {
          "base_uri": "https://localhost:8080/"
        },
        "id": "9PRf4lsVz1-h",
        "outputId": "63e1c308-801a-45a1-d06d-94d0ac053bdc"
      },
      "execution_count": 7,
      "outputs": [
        {
          "output_type": "execute_result",
          "data": {
            "text/plain": [
              "5"
            ]
          },
          "metadata": {},
          "execution_count": 7
        }
      ]
    },
    {
      "cell_type": "code",
      "source": [
        "len(\"apple\") < 5 "
      ],
      "metadata": {
        "colab": {
          "base_uri": "https://localhost:8080/"
        },
        "id": "6P3vfc2V2Aim",
        "outputId": "acdd1241-67c1-447a-cb12-52da2476cf6c"
      },
      "execution_count": 8,
      "outputs": [
        {
          "output_type": "execute_result",
          "data": {
            "text/plain": [
              "False"
            ]
          },
          "metadata": {},
          "execution_count": 8
        }
      ]
    },
    {
      "cell_type": "code",
      "source": [
        "len(\"me\") < 5 "
      ],
      "metadata": {
        "colab": {
          "base_uri": "https://localhost:8080/"
        },
        "id": "e_t7lnlX2GfU",
        "outputId": "a4f83577-0552-4210-94f1-aa7489eee747"
      },
      "execution_count": 9,
      "outputs": [
        {
          "output_type": "execute_result",
          "data": {
            "text/plain": [
              "True"
            ]
          },
          "metadata": {},
          "execution_count": 9
        }
      ]
    },
    {
      "cell_type": "code",
      "source": [
        "words = ['apple','swim','clock','me','kiwi','banana']\n",
        "for i in filter(lambda x: len(x) < 5, words) :\n",
        "  print(i)"
      ],
      "metadata": {
        "colab": {
          "base_uri": "https://localhost:8080/"
        },
        "id": "MtCZAEKe2Kxm",
        "outputId": "6b932dd2-1198-43eb-f8f1-20a4453f493f"
      },
      "execution_count": 10,
      "outputs": [
        {
          "output_type": "stream",
          "name": "stdout",
          "text": [
            "swim\n",
            "me\n",
            "kiwi\n"
          ]
        }
      ]
    },
    {
      "cell_type": "code",
      "source": [
        "letter1=['a','b','c']\n",
        "letter2=['x','y','z']\n",
        "\n",
        "combine = map(zip, letter1, letter2)\n",
        "\n",
        "for i in combine:\n",
        "  for j in i :\n",
        "    print(j)\n"
      ],
      "metadata": {
        "colab": {
          "base_uri": "https://localhost:8080/"
        },
        "id": "2I7HBNaj5FdV",
        "outputId": "616c591f-1631-4d2f-a222-d3d4cd11dc6c"
      },
      "execution_count": 11,
      "outputs": [
        {
          "output_type": "stream",
          "name": "stdout",
          "text": [
            "('a', 'x')\n",
            "('b', 'y')\n",
            "('c', 'z')\n"
          ]
        }
      ]
    },
    {
      "cell_type": "code",
      "source": [
        "glu = zip(letter1, letter2)\n",
        "list(glu)"
      ],
      "metadata": {
        "colab": {
          "base_uri": "https://localhost:8080/"
        },
        "id": "NDbaYUD56O_-",
        "outputId": "484efd2f-fb51-405d-ada4-5b8c30e4bed5"
      },
      "execution_count": 13,
      "outputs": [
        {
          "output_type": "execute_result",
          "data": {
            "text/plain": [
              "[('a', 'x'), ('b', 'y'), ('c', 'z')]"
            ]
          },
          "metadata": {},
          "execution_count": 13
        }
      ]
    },
    {
      "cell_type": "code",
      "source": [
        ""
      ],
      "metadata": {
        "id": "r-6POsTG6a3M"
      },
      "execution_count": null,
      "outputs": []
    }
  ],
  "metadata": {
    "colab": {
      "name": "Lambda Tasks and answers",
      "provenance": [],
      "authorship_tag": "ABX9TyPA0kVYIUurGSu0kTL3Qk4i",
      "include_colab_link": true
    },
    "kernelspec": {
      "display_name": "Python 3",
      "name": "python3"
    },
    "language_info": {
      "name": "python"
    }
  },
  "nbformat": 4,
  "nbformat_minor": 0
}