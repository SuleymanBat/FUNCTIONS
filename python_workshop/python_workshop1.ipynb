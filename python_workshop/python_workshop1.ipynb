{
 "cells": [
  {
   "cell_type": "markdown",
   "metadata": {},
   "source": [
    "TASK 1:\n",
    "Is the given number ODD or EVEN? With which python code can you find this?"
   ]
  },
  {
   "cell_type": "code",
   "execution_count": 3,
   "metadata": {},
   "outputs": [
    {
     "name": "stdout",
     "output_type": "stream",
     "text": [
      "The number you wrote is ODD\n"
     ]
    }
   ],
   "source": [
    "number = int(input(\"Enter a number please : \"))\n",
    "if number % 2 == 0:\n",
    "    print(\"The number you wrote is EVEN\")\n",
    "else:\n",
    "    print(\"The number you wrote is ODD\")"
   ]
  },
  {
   "cell_type": "markdown",
   "metadata": {},
   "source": [
    "TASK 2:\n",
    "How can you find whether the given number is positive or negative or 0?"
   ]
  },
  {
   "cell_type": "code",
   "execution_count": 6,
   "metadata": {},
   "outputs": [
    {
     "name": "stdout",
     "output_type": "stream",
     "text": [
      "The number you wrote is 0\n"
     ]
    }
   ],
   "source": [
    "num = int(input(\"Please tell me a number : \"))\n",
    "if num < 0:\n",
    "    print(\"The number you wrote is NEGATIVE\")\n",
    "elif num > 0:\n",
    "    print(\"The number you wrote is POSITIVE\")\n",
    "else:\n",
    "    print(\"The number you wrote is 0\")\n"
   ]
  },
  {
   "cell_type": "markdown",
   "metadata": {},
   "source": [
    "TASK 3:\n",
    "How to calculate the weight and height index?"
   ]
  },
  {
   "cell_type": "code",
   "execution_count": 10,
   "metadata": {},
   "outputs": [
    {
     "name": "stdout",
     "output_type": "stream",
     "text": [
      "You are heavy weighted as to your index 38.75 amount.\n"
     ]
    }
   ],
   "source": [
    "height = 170\n",
    "weight = 112\n",
    "\n",
    "index = round(weight/((height/100)**2),2)\n",
    "\n",
    "if index < 18.5:\n",
    "    print(f\"Your height and weight index {index} is well balanced \")\n",
    "elif index < 24.5 and index >= 18.5:\n",
    "    print(f\"Your height and weight index {index} is a little bit excessive \")\n",
    "else:\n",
    "    print(f\"You are heavy weighted as to your index {index} amount.\")"
   ]
  },
  {
   "cell_type": "code",
   "execution_count": 13,
   "metadata": {},
   "outputs": [
    {
     "name": "stdout",
     "output_type": "stream",
     "text": [
      "welcome   #"
     ]
    }
   ],
   "source": [
    "print(\"{:10s}\".format(\"welcome\"), end=\"#\")"
   ]
  },
  {
   "cell_type": "code",
   "execution_count": 14,
   "metadata": {},
   "outputs": [
    {
     "name": "stdout",
     "output_type": "stream",
     "text": [
      "welcome             #"
     ]
    }
   ],
   "source": [
    "print(\"{:20s}\".format(\"welcome\"), end=\"#\")"
   ]
  },
  {
   "cell_type": "code",
   "execution_count": 15,
   "metadata": {},
   "outputs": [
    {
     "name": "stdout",
     "output_type": "stream",
     "text": [
      "welcome#"
     ]
    }
   ],
   "source": [
    "print(\"{:s}\".format(\"welcome\"), end=\"#\")"
   ]
  },
  {
   "cell_type": "code",
   "execution_count": 16,
   "metadata": {},
   "outputs": [
    {
     "name": "stdout",
     "output_type": "stream",
     "text": [
      "       111\n"
     ]
    }
   ],
   "source": [
    "print(\"{:10d}\".format(111))"
   ]
  },
  {
   "cell_type": "code",
   "execution_count": 19,
   "metadata": {},
   "outputs": [
    {
     "name": "stdout",
     "output_type": "stream",
     "text": [
      "                           111\n"
     ]
    }
   ],
   "source": [
    "print(\"{:30d}\".format(111))"
   ]
  },
  {
   "cell_type": "code",
   "execution_count": 20,
   "metadata": {},
   "outputs": [
    {
     "name": "stdout",
     "output_type": "stream",
     "text": [
      "924.66\n"
     ]
    }
   ],
   "source": [
    "print(\"{:3.2f}\".format(924.656))"
   ]
  },
  {
   "cell_type": "code",
   "execution_count": 21,
   "metadata": {},
   "outputs": [
    {
     "name": "stdout",
     "output_type": "stream",
     "text": [
      "924.65600\n"
     ]
    }
   ],
   "source": [
    "print(\"{:3.5f}\".format(924.656))"
   ]
  },
  {
   "cell_type": "markdown",
   "metadata": {},
   "source": [
    "TASK 4\n",
    "Can you calculate whether the person whose age is entered can get a driver's license?"
   ]
  },
  {
   "cell_type": "code",
   "execution_count": 22,
   "metadata": {},
   "outputs": [
    {
     "name": "stdout",
     "output_type": "stream",
     "text": [
      "You are not eligible!\n"
     ]
    }
   ],
   "source": [
    "name = input(\" Please enter your name : \")\n",
    "age = int(input(\"enter your age : \"))\n",
    "education = input(\" Enter level of your education : \")\n",
    "edu = [\"Highschool\", \"Universite\",\"Vocational\",\"Master\"]\n",
    "\n",
    "if age >= 18 and (education in edu):\n",
    "    print(\"You have necessary skills for geting Driving License\")\n",
    "elif age >= 18 and (education not in edu):\n",
    "    print(\" Your education level is not enough for geting Driving Lisense\")\n",
    "elif age < 18 and (education in edu):\n",
    "    print(\" Your age is not enough for geting Driving Lisense\")\n",
    "else:\n",
    "    print(\"You are not eligible!\")"
   ]
  },
  {
   "cell_type": "markdown",
   "metadata": {},
   "source": [
    "TASK 5:\n",
    "Can you write a python code which is showing us the numbers between (1 and 100) in the screen?"
   ]
  },
  {
   "cell_type": "code",
   "execution_count": 23,
   "metadata": {},
   "outputs": [
    {
     "name": "stdout",
     "output_type": "stream",
     "text": [
      "1\n",
      "2\n",
      "3\n",
      "4\n",
      "5\n",
      "6\n",
      "7\n",
      "8\n",
      "9\n",
      "10\n",
      "11\n",
      "12\n",
      "13\n",
      "14\n",
      "15\n",
      "16\n",
      "17\n",
      "18\n",
      "19\n",
      "20\n",
      "21\n",
      "22\n",
      "23\n",
      "24\n",
      "25\n",
      "26\n",
      "27\n",
      "28\n",
      "29\n",
      "30\n",
      "31\n",
      "32\n",
      "33\n",
      "34\n",
      "35\n",
      "36\n",
      "37\n",
      "38\n",
      "39\n",
      "40\n",
      "41\n",
      "42\n",
      "43\n",
      "44\n",
      "45\n",
      "46\n",
      "47\n",
      "48\n",
      "49\n",
      "50\n",
      "51\n",
      "52\n",
      "53\n",
      "54\n",
      "55\n",
      "56\n",
      "57\n",
      "58\n",
      "59\n",
      "60\n",
      "61\n",
      "62\n",
      "63\n",
      "64\n",
      "65\n",
      "66\n",
      "67\n",
      "68\n",
      "69\n",
      "70\n",
      "71\n",
      "72\n",
      "73\n",
      "74\n",
      "75\n",
      "76\n",
      "77\n",
      "78\n",
      "79\n",
      "80\n",
      "81\n",
      "82\n",
      "83\n",
      "84\n",
      "85\n",
      "86\n",
      "87\n",
      "88\n",
      "89\n",
      "90\n",
      "91\n",
      "92\n",
      "93\n",
      "94\n",
      "95\n",
      "96\n",
      "97\n",
      "98\n",
      "99\n"
     ]
    }
   ],
   "source": [
    "for i in range(1, 100):\n",
    "    print(i)"
   ]
  },
  {
   "cell_type": "markdown",
   "metadata": {},
   "source": []
  }
 ],
 "metadata": {
  "interpreter": {
   "hash": "832846a74a0590b51c6a03d6e85366ed32ab2ada9d1f0302b9699cda738154f0"
  },
  "kernelspec": {
   "display_name": "Python 3.10.2 64-bit",
   "language": "python",
   "name": "python3"
  },
  "language_info": {
   "codemirror_mode": {
    "name": "ipython",
    "version": 3
   },
   "file_extension": ".py",
   "mimetype": "text/x-python",
   "name": "python",
   "nbconvert_exporter": "python",
   "pygments_lexer": "ipython3",
   "version": "3.10.2"
  },
  "orig_nbformat": 4
 },
 "nbformat": 4,
 "nbformat_minor": 2
}
