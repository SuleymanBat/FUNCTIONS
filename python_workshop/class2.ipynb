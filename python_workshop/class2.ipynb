{
 "cells": [
  {
   "cell_type": "code",
   "execution_count": 8,
   "metadata": {},
   "outputs": [],
   "source": [
    "class fly():\n",
    "    airline = \"THY\"\n",
    "    \n",
    "    def __init__(self, code, departure, arrival, time,capacity, passengers ):\n",
    "        self.code = code\n",
    "        self.departure = departure\n",
    "        self.arrival = arrival\n",
    "        self.time = time\n",
    "        self.capacity = capacity\n",
    "        self.passengers = passengers\n",
    "\n",
    "    def announcement(self): # this attribute return announcments\n",
    "        return f\"Ladies and gentelmens {self.code} flight numbered flying from {self.departure} \\\n",
    "to {self.arrival} will take {self.time} minutes. \"\n",
    "\n",
    "    def num_seats_upd(self): # we can find suitable seats\n",
    "        #return \"Suitable number of seats is {}.\".format (self.capacity - self.passengers)\n",
    "        return (self.capacity - self.passengers)\n",
    "    \n",
    "    def tickets_sell(self, tickets_sell = 1): # this attribute aggregate number of passengers when any ticket is sold.\n",
    "        if self.passengers + tickets_sell < self.capacity:\n",
    "            self.passengers += tickets_sell\n",
    "            self.num_seats_upd()\n",
    "            print(\"{} tickets are sold, available seats are {}\".\n",
    "                format(tickets_sell, self.num_seats_upd()))\n",
    "        else:\n",
    "            print(\"Unfortunately seats are run out of.\")\n",
    "\n",
    "    def tickets_cancel(self, tickets_cancel = 1): #This attribute run if passengers cancel the tickets.\n",
    "        self.passengers -= tickets_cancel\n",
    "        self.num_seats_upd()\n",
    "        print(\"{} tickets are canceled, available seats are {}\".\n",
    "        format(tickets_cancel, self.num_seats_upd()))\n",
    "\n",
    "    "
   ]
  },
  {
   "cell_type": "code",
   "execution_count": 9,
   "metadata": {},
   "outputs": [
    {
     "data": {
      "text/plain": [
       "'Ladies and gentelmens TK230 flight numbered flying from ROM to ARL will take 180 minutes. '"
      ]
     },
     "execution_count": 9,
     "metadata": {},
     "output_type": "execute_result"
    }
   ],
   "source": [
    "fly4 = fly(\"TK230\", \"ROM\", \"ARL\", 180, 270, 210)\n",
    "fly4.announcement()"
   ]
  },
  {
   "cell_type": "code",
   "execution_count": 10,
   "metadata": {},
   "outputs": [
    {
     "data": {
      "text/plain": [
       "60"
      ]
     },
     "execution_count": 10,
     "metadata": {},
     "output_type": "execute_result"
    }
   ],
   "source": [
    "fly4 = fly(\"TK230\", \"ROM\", \"ARL\", 180, 270, 210)\n",
    "fly4.num_seats_upd()"
   ]
  },
  {
   "cell_type": "code",
   "execution_count": 11,
   "metadata": {},
   "outputs": [
    {
     "name": "stdout",
     "output_type": "stream",
     "text": [
      "5 tickets are sold, available seats are 55\n"
     ]
    }
   ],
   "source": [
    "# def tickets_sell(self, tickets_sell = 1)\n",
    "fly4.tickets_sell(5)"
   ]
  },
  {
   "cell_type": "code",
   "execution_count": 12,
   "metadata": {},
   "outputs": [
    {
     "name": "stdout",
     "output_type": "stream",
     "text": [
      "Unfortunately seats are run out of.\n"
     ]
    }
   ],
   "source": [
    "fly4.tickets_sell(70)"
   ]
  },
  {
   "cell_type": "code",
   "execution_count": 13,
   "metadata": {},
   "outputs": [
    {
     "data": {
      "text/plain": [
       "55"
      ]
     },
     "execution_count": 13,
     "metadata": {},
     "output_type": "execute_result"
    }
   ],
   "source": [
    "fly4.num_seats_upd()"
   ]
  },
  {
   "cell_type": "code",
   "execution_count": 14,
   "metadata": {},
   "outputs": [
    {
     "name": "stdout",
     "output_type": "stream",
     "text": [
      "1 tickets are canceled, available seats are 56\n"
     ]
    }
   ],
   "source": [
    "fly4.tickets_cancel()"
   ]
  },
  {
   "cell_type": "code",
   "execution_count": null,
   "metadata": {},
   "outputs": [],
   "source": []
  }
 ],
 "metadata": {
  "interpreter": {
   "hash": "832846a74a0590b51c6a03d6e85366ed32ab2ada9d1f0302b9699cda738154f0"
  },
  "kernelspec": {
   "display_name": "Python 3.10.2 64-bit",
   "language": "python",
   "name": "python3"
  },
  "language_info": {
   "codemirror_mode": {
    "name": "ipython",
    "version": 3
   },
   "file_extension": ".py",
   "mimetype": "text/x-python",
   "name": "python",
   "nbconvert_exporter": "python",
   "pygments_lexer": "ipython3",
   "version": "3.10.2"
  },
  "orig_nbformat": 4
 },
 "nbformat": 4,
 "nbformat_minor": 2
}
