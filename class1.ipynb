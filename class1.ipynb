{
  "cells": [
    {
      "cell_type": "markdown",
      "metadata": {
        "id": "view-in-github",
        "colab_type": "text"
      },
      "source": [
        "<a href=\"https://colab.research.google.com/github/SuleymanBat/FUNCTIONS/blob/main/class1.ipynb\" target=\"_parent\"><img src=\"https://colab.research.google.com/assets/colab-badge.svg\" alt=\"Open In Colab\"/></a>"
      ]
    },
    {
      "cell_type": "markdown",
      "metadata": {
        "id": "UqdWGhZa542w"
      },
      "source": [
        "CREATING CLASS, ATTRIBUTE and METHODS:"
      ]
    },
    {
      "cell_type": "code",
      "execution_count": null,
      "metadata": {
        "id": "Xsf62UOY5420"
      },
      "outputs": [],
      "source": [
        "class fly():\n",
        "    airline ='SAS'"
      ]
    },
    {
      "cell_type": "code",
      "execution_count": null,
      "metadata": {
        "id": "bP3vI07Y5423",
        "outputId": "00de37cd-66bd-454f-b656-141c972018b8"
      },
      "outputs": [
        {
          "data": {
            "text/plain": [
              "'SAS'"
            ]
          },
          "execution_count": 2,
          "metadata": {},
          "output_type": "execute_result"
        }
      ],
      "source": [
        "fly1 = fly()\n",
        "fly1.airline"
      ]
    },
    {
      "cell_type": "code",
      "execution_count": null,
      "metadata": {
        "id": "9iedj2U65425"
      },
      "outputs": [],
      "source": [
        "class fly():\n",
        "    airline = 'SAS'\n",
        "\n",
        "    def __init__(self, code,departure,arrival,time,capacity,passengers):\n",
        "        self.code = code \n",
        "        self.departure = departure \n",
        "        self.arrival = arrival\n",
        "        self.time =time\n",
        "        self.capacity = capacity\n",
        "        self.passengers = passengers"
      ]
    },
    {
      "cell_type": "code",
      "execution_count": null,
      "metadata": {
        "id": "dqlsOsOn5427",
        "outputId": "cf69c036-bb89-41f8-9441-b05c2ed9fae8"
      },
      "outputs": [
        {
          "data": {
            "text/plain": [
              "260"
            ]
          },
          "execution_count": 4,
          "metadata": {},
          "output_type": "execute_result"
        }
      ],
      "source": [
        "#    def __init__(self, code,departure,arrival,time,capacity,passengers):\n",
        "fly2 = fly('SE 123', 'ARL', 'EIND', 60, 260, 90)\n",
        "fly2.capacity"
      ]
    },
    {
      "cell_type": "code",
      "execution_count": null,
      "metadata": {
        "id": "5XtzElM1542-",
        "outputId": "e95fa0b6-094c-4ad7-9bd4-e537101194e9"
      },
      "outputs": [
        {
          "data": {
            "text/plain": [
              "'SE 123'"
            ]
          },
          "execution_count": 5,
          "metadata": {},
          "output_type": "execute_result"
        }
      ],
      "source": [
        "fly2.code"
      ]
    },
    {
      "cell_type": "code",
      "execution_count": null,
      "metadata": {
        "id": "_aJBGqc2542_",
        "outputId": "97193306-a7ad-453c-dd98-56063832a345"
      },
      "outputs": [
        {
          "data": {
            "text/plain": [
              "'ARL'"
            ]
          },
          "execution_count": 6,
          "metadata": {},
          "output_type": "execute_result"
        }
      ],
      "source": [
        "fly2.departure"
      ]
    },
    {
      "cell_type": "code",
      "execution_count": null,
      "metadata": {
        "id": "DKSosP1a543A"
      },
      "outputs": [],
      "source": [
        "class fly():\n",
        "    airline = 'LUFTHANSA'\n",
        "\n",
        "    def __init__(self, code, departure, arrival, time, capacity, passengers):\n",
        "        self.code = code\n",
        "        self.departure = departure\n",
        "        self.arrival = arrival\n",
        "        self.time = time\n",
        "        self.capacity = capacity\n",
        "        self.passengers = passengers\n",
        "\n",
        "    def announcement(self):\n",
        "        return \" {} Numbered flight {} - {} will take {} minutes\".format(self.code, self.departure, self.arrival, self.time)"
      ]
    },
    {
      "cell_type": "code",
      "execution_count": null,
      "metadata": {
        "id": "jqezDRXD543B",
        "outputId": "3f7b53ad-18dd-4a03-977b-560a2cff6d94"
      },
      "outputs": [
        {
          "data": {
            "text/plain": [
              "' SE555 Numbered flight ATEN - ARL will take 40 minutes'"
            ]
          },
          "execution_count": 8,
          "metadata": {},
          "output_type": "execute_result"
        }
      ],
      "source": [
        "fly3 = fly('SE555','ATEN','ARL', 40, 250, 240)\n",
        "fly3.announcement()"
      ]
    },
    {
      "cell_type": "code",
      "execution_count": null,
      "metadata": {
        "id": "A7oQnGZc543C"
      },
      "outputs": [],
      "source": [
        ""
      ]
    }
  ],
  "metadata": {
    "interpreter": {
      "hash": "832846a74a0590b51c6a03d6e85366ed32ab2ada9d1f0302b9699cda738154f0"
    },
    "kernelspec": {
      "display_name": "Python 3.10.2 64-bit",
      "language": "python",
      "name": "python3"
    },
    "language_info": {
      "codemirror_mode": {
        "name": "ipython",
        "version": 3
      },
      "file_extension": ".py",
      "mimetype": "text/x-python",
      "name": "python",
      "nbconvert_exporter": "python",
      "pygments_lexer": "ipython3",
      "version": "3.10.2"
    },
    "orig_nbformat": 4,
    "colab": {
      "name": "class1.ipynb",
      "provenance": [],
      "include_colab_link": true
    }
  },
  "nbformat": 4,
  "nbformat_minor": 0
}