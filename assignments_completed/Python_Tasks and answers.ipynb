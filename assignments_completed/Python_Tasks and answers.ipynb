{
  "cells": [
    {
      "cell_type": "markdown",
      "id": "6bd90c90",
      "metadata": {},
      "source": [
        "Task : Create a list consisting of Fibonacci numbers from 1 to 55 using control flow statements and range() function.\n",
        "\n",
        "The desired output is like this:\n",
        "\n",
        "fibonacci →  [1, 1, 2, 3, 5, 8, 13, 21, 34, 55]"
      ]
    },
    {
      "cell_type": "code",
      "execution_count": 5,
      "id": "650acb8c",
      "metadata": {},
      "outputs": [],
      "source": [
        "a = int(input(11))\n",
        "\n",
        "def fibo_numbers(n):\n",
        "    a, b = 0, 1\n",
        "    for _ in range(n):\n",
        "        yield a\n",
        "        a, b = b, a + b\n",
        "\n",
        "print(list(fibo_numbers(a)))"
      ]
    },
    {
      "cell_type": "code",
      "execution_count": 8,
      "id": "5064fe1c",
      "metadata": {},
      "outputs": [],
      "source": [
        "fibo= [1,1]\n"
      ]
    },
    {
      "cell_type": "code",
      "execution_count": 9,
      "id": "dad52316",
      "metadata": {},
      "outputs": [],
      "source": [
        "for i in range(8):\n",
        "\n",
        "    fibo.append(fibo[i] + fibo[i+1])"
      ]
    },
    {
      "cell_type": "code",
      "execution_count": 10,
      "id": "98eb8ec0",
      "metadata": {},
      "outputs": [
        {
          "data": {
            "text/plain": [
              "[1, 1, 2, 3, 5, 8, 13, 21, 34, 55]"
            ]
          },
          "execution_count": 10,
          "metadata": {},
          "output_type": "execute_result"
        }
      ],
      "source": [
        "fibo"
      ]
    },
    {
      "cell_type": "code",
      "execution_count": 11,
      "id": "5d0b1e3f",
      "metadata": {},
      "outputs": [
        {
          "name": "stdout",
          "output_type": "stream",
          "text": [
            "Athens in Europe\n",
            "Ulanbatur in Europe\n"
          ]
        }
      ],
      "source": [
        "def city(capital, continent='Europe'):\n",
        "    print(capital, 'in', continent)\n",
        "\n",
        "city('Athens')\n",
        "city('Ulanbatur')\n",
        "\n"
      ]
    },
    {
      "cell_type": "code",
      "execution_count": 3,
      "id": "9814df0d",
      "metadata": {},
      "outputs": [],
      "source": [
        "def slicer(*num):\n",
        "    \n",
        "    evens =[]\n",
        "    odds =[]\n",
        "\n",
        "    for i in num :\n",
        "        if i % 2 == 0 :\n",
        "            evens.append(i)\n",
        "        else:\n",
        "            odds.append(i)\n",
        "\n",
        "    print(\"Even list :\", evens)\n",
        "    print(\"Odd list :\", odds)\n"
      ]
    },
    {
      "cell_type": "code",
      "execution_count": 4,
      "metadata": {},
      "outputs": [
        {
          "name": "stdout",
          "output_type": "stream",
          "text": [
            "Even list : [2, 4, 6]\n",
            "Odd list : [1, 3, 5]\n"
          ]
        }
      ],
      "source": [
        "slicer(1,2,3,4,5,6)"
      ]
    },
    {
      "cell_type": "code",
      "execution_count": 5,
      "id": "99dee935",
      "metadata": {},
      "outputs": [
        {
          "name": "stdout",
          "output_type": "stream",
          "text": [
            "['Beth', 'Oscar', 'Justin', 'Frank']\n",
            "[26, 42, 18, 33]\n"
          ]
        }
      ],
      "source": [
        "def organizer(**kul):\n",
        "    names=[]\n",
        "    ages=[]\n",
        "\n",
        "    for key, value in kul.items():\n",
        "        names.append(key)\n",
        "        ages.append(value)\n",
        "    print(names,ages,sep=\"\\n\")\n",
        "\n",
        "organizer(Beth=26,Oscar=42,Justin=18,Frank=33)"
      ]
    },
    {
      "cell_type": "code",
      "execution_count": 6,
      "id": "a06db82e",
      "metadata": {},
      "outputs": [],
      "source": [
        "def organizer(**people):\n",
        "\n",
        "    names=[]\n",
        "    ages=[]\n",
        "\n",
        "    for keys, values in people.items():\n",
        "        names.append(keys)\n",
        "        ages.append(values)\n",
        "    print(names,ages,sep=\"\\n\")"
      ]
    },
    {
      "cell_type": "code",
      "execution_count": 7,
      "id": "6a6ebe85",
      "metadata": {},
      "outputs": [
        {
          "name": "stdout",
          "output_type": "stream",
          "text": [
            "['Beth', 'Oscar']\n",
            "[26, 42]\n"
          ]
        }
      ],
      "source": [
        "organizer(Beth=26,Oscar=42,)"
      ]
    },
    {
      "cell_type": "code",
      "execution_count": 13,
      "id": "e2c8e9d4",
      "metadata": {},
      "outputs": [],
      "source": [
        "cumle = \"ben size ders anlatirkene HUZUR buluyorum. dertlerimi unutuyorum.\""
      ]
    },
    {
      "cell_type": "code",
      "execution_count": 14,
      "id": "fc5eec8c",
      "metadata": {},
      "outputs": [],
      "source": [
        "def vowel(letter):\n",
        "\n",
        "    vowels = \"a e u i o ö\".split()\n",
        "\n",
        "    if letter.lower() in vowels:\n",
        "        return True\n",
        "    else:\n",
        "        return False"
      ]
    },
    {
      "cell_type": "code",
      "execution_count": 17,
      "id": "ec8b3b8c",
      "metadata": {},
      "outputs": [],
      "source": [
        "filter_vowels=filter(vowel,cumle)"
      ]
    },
    {
      "cell_type": "code",
      "execution_count": 20,
      "id": "c46ed4ef",
      "metadata": {},
      "outputs": [
        {
          "name": "stdout",
          "output_type": "stream",
          "text": [
            "e i e e a a i e e u u u u o u e e i i u u u o u\n"
          ]
        }
      ],
      "source": [
        "print(* filter_vowels)"
      ]
    },
    {
      "cell_type": "markdown",
      "id": "cae5ada7",
      "metadata": {},
      "source": [
        "TASK: \n",
        "Given two integer values, return their sum. If the two values are the same, then return double their sum.\n",
        "\n",
        "For example:\n",
        "\t\n",
        "print(sum_double(1, 2))\n",
        "3\n",
        "print(sum_double(5, 7))\n",
        "12\n",
        "print(sum_double(5, 5))\n",
        "20"
      ]
    },
    {
      "cell_type": "code",
      "execution_count": 28,
      "id": "e65d1eb9",
      "metadata": {},
      "outputs": [
        {
          "name": "stdout",
          "output_type": "stream",
          "text": [
            "20\n"
          ]
        }
      ],
      "source": [
        "i=int(input(\"Say to me a number : \"))\n",
        "k=int(input(\"Say a number one more time : \"))\n",
        "\n",
        "if i == k :\n",
        "    print((i + k)*2)\n",
        "else:\n",
        "    print(i + k) "
      ]
    },
    {
      "cell_type": "code",
      "execution_count": 33,
      "id": "58d4dbc0",
      "metadata": {},
      "outputs": [],
      "source": [
        "def sum_double(x,y):\n",
        "\n",
        "    if x == y :\n",
        "        return (x + y)*2\n",
        "    else:\n",
        "        return x + y"
      ]
    },
    {
      "cell_type": "code",
      "execution_count": 34,
      "id": "e833defd",
      "metadata": {},
      "outputs": [
        {
          "data": {
            "text/plain": [
              "3"
            ]
          },
          "execution_count": 34,
          "metadata": {},
          "output_type": "execute_result"
        }
      ],
      "source": [
        "sum_double(1,2)"
      ]
    },
    {
      "cell_type": "code",
      "execution_count": 35,
      "id": "ae93d096",
      "metadata": {},
      "outputs": [
        {
          "data": {
            "text/plain": [
              "20"
            ]
          },
          "execution_count": 35,
          "metadata": {},
          "output_type": "execute_result"
        }
      ],
      "source": [
        "sum_double(5,5)"
      ]
    },
    {
      "cell_type": "markdown",
      "id": "12f2440f",
      "metadata": {},
      "source": [
        "TASK:\n",
        "We have a loud talking parrot. We are in trouble if the parrot is talking and the hour is before 6 or after 21.\n",
        "Define a function taking two parameters (talking and hour) to return True if we are in trouble. The argument to  talking parameter can only be True or False whether it is talking or not. The argument to hour parameter should be the current hour time in the range of 0 to 23\n",
        "\n",
        "For example:\n",
        "print(parrot_trouble(True, 5))\n",
        "True\n",
        "print(parrot_trouble(True, 8))\n",
        "False\n",
        "print(parrot_trouble(False, 22))\n",
        "False"
      ]
    },
    {
      "cell_type": "code",
      "execution_count": 96,
      "id": "5fc159b2",
      "metadata": {},
      "outputs": [],
      "source": [
        "def parrot_trouble(talking, hour):\n",
        "    \n",
        "    if talking == True:\n",
        "\n",
        "        if hour in range(0,6):\n",
        "            return True\n",
        "        elif hour in range(21,24):\n",
        "            return True\n",
        "        else:\n",
        "            return False\n",
        "    \n",
        "    else:\n",
        "        return False"
      ]
    },
    {
      "cell_type": "code",
      "execution_count": 97,
      "id": "e989a4e3",
      "metadata": {},
      "outputs": [
        {
          "name": "stdout",
          "output_type": "stream",
          "text": [
            "True\n"
          ]
        }
      ],
      "source": [
        "print(parrot_trouble(True, 5))"
      ]
    },
    {
      "cell_type": "code",
      "execution_count": 98,
      "id": "04cf4033",
      "metadata": {},
      "outputs": [
        {
          "name": "stdout",
          "output_type": "stream",
          "text": [
            "False\n"
          ]
        }
      ],
      "source": [
        "print(parrot_trouble(True, 8))"
      ]
    },
    {
      "cell_type": "code",
      "execution_count": 99,
      "id": "8a08775c",
      "metadata": {},
      "outputs": [
        {
          "name": "stdout",
          "output_type": "stream",
          "text": [
            "False\n"
          ]
        }
      ],
      "source": [
        "print(parrot_trouble(False, 22))\n"
      ]
    }
  ],
  "metadata": {
    "colab": {
      "collapsed_sections": [],
      "name": "11_Mart_2022_Python_Workshop__.ipynb",
      "provenance": []
    },
    "hide_input": false,
    "kernelspec": {
      "display_name": "Python 3 (ipykernel)",
      "language": "python",
      "name": "python3"
    },
    "language_info": {
      "codemirror_mode": {
        "name": "ipython",
        "version": 3
      },
      "file_extension": ".py",
      "mimetype": "text/x-python",
      "name": "python",
      "nbconvert_exporter": "python",
      "pygments_lexer": "ipython3",
      "version": "3.10.2"
    },
    "nbTranslate": {
      "displayLangs": [
        "tr",
        "en"
      ],
      "hotkey": "alt-t",
      "langInMainMenu": true,
      "sourceLang": "en",
      "targetLang": "tr",
      "useGoogleTranslate": true
    },
    "toc": {
      "base_numbering": 1,
      "nav_menu": {},
      "number_sections": true,
      "sideBar": true,
      "skip_h1_title": false,
      "title_cell": "Table of Contents",
      "title_sidebar": "Contents",
      "toc_cell": false,
      "toc_position": {
        "height": "calc(100% - 180px)",
        "left": "10px",
        "top": "150px",
        "width": "165px"
      },
      "toc_section_display": true,
      "toc_window_display": true
    },
    "varInspector": {
      "cols": {
        "lenName": 16,
        "lenType": 16,
        "lenVar": 40
      },
      "kernels_config": {
        "python": {
          "delete_cmd_postfix": "",
          "delete_cmd_prefix": "del ",
          "library": "var_list.py",
          "varRefreshCmd": "print(var_dic_list())"
        },
        "r": {
          "delete_cmd_postfix": ") ",
          "delete_cmd_prefix": "rm(",
          "library": "var_list.r",
          "varRefreshCmd": "cat(var_dic_list()) "
        }
      },
      "types_to_exclude": [
        "module",
        "function",
        "builtin_function_or_method",
        "instance",
        "_Feature"
      ],
      "window_display": false
    }
  },
  "nbformat": 4,
  "nbformat_minor": 5
}
