{
  "cells": [
    {
      "cell_type": "markdown",
      "id": "759da657",
      "metadata": {},
      "source": [
        "Task:\n",
        "\n",
        "Find out if a given number is an \"Armstrong Number\".\n",
        "An n-digit number that is the sum of the nth powers of its digits is called an n-Armstrong number. \n",
        "Write a Python program that;\n",
        "takes a positive integer number from the user,\n",
        "checks the entered number if it is Armstrong,\n",
        "consider the negative, float and any entries other than numeric values then display a warning message to the user.\n",
        "\n",
        "Sample inputs\tOutputs\n",
        "407\t      is an Armstrong number\n",
        "5\t      is an Armstrong number\n",
        " -153\t  It is an invalid entry. Don't use non-numeric, float, or negative values!\n",
        " 153.87   It is an invalid entry. Don't use non-numeric, float, or negative values!\n",
        " one\t  It is an invalid entry. Don't use non-numeric, float, or negative values!\n",
        " 121\t  121 is not an Armstrong number\n"
      ]
    },
    {
      "cell_type": "code",
      "execution_count": null,
      "id": "8429b4b2",
      "metadata": {},
      "outputs": [],
      "source": [
        "while True:\n",
        "    number = input(\"enter a positive integer number : \")\n",
        "    digits = len(number)\n",
        "    summ = 0\n",
        "\n",
        "    if not number.isdigit():\n",
        "        print(number, \" is invalid entry. Enter valid input!\")\n",
        "\n",
        "    elif int(number) >= 0 :\n",
        "        for i in range(digits):\n",
        "            summ == summ + int(number[i]) ** digits\n",
        "\n",
        "        if summ == int(number):\n",
        "            print(number, \" is an Armstrong Number.\")\n",
        "            break\n",
        "        else :\n",
        "            print(number, \" is not an Armstrong Number.Sorry\")\n",
        "            break\n"
      ]
    },
    {
      "cell_type": "markdown",
      "id": "7e0d7063",
      "metadata": {},
      "source": [
        "Task : Write a program that takes a number from the user and prints the result to check if it is a prime number.\n",
        "\n",
        "The examples of the desired output are as follows :\n",
        "\n",
        "input →  19 ⇉ output : 19 is a prime number\n",
        "input →  10 ⇉ output : 10 is not a prime number\n"
      ]
    },
    {
      "cell_type": "code",
      "execution_count": null,
      "id": "634d9f07",
      "metadata": {},
      "outputs": [],
      "source": [
        "kolla = int(input(\"Enter a positive number to check if it is a prime number : \"))\n",
        "count = 0\n",
        "\n",
        "for i in range(1, kolla+1):\n",
        "    if kolla % i == 0:\n",
        "        count += 1\n",
        "if (kolla == 0) or (kolla == 1) or (kolla >= 3):\n",
        "    print(kolla, \" is not a Prime number!\")\n",
        "else:\n",
        "    print(kolla, \" is a Prime number\")"
      ]
    },
    {
      "cell_type": "code",
      "execution_count": 9,
      "id": "23740c5e",
      "metadata": {},
      "outputs": [
        {
          "data": {
            "text/plain": [
              "27"
            ]
          },
          "execution_count": 9,
          "metadata": {},
          "output_type": "execute_result"
        }
      ],
      "source": [
        "(lambda x : x ** 3)(3)"
      ]
    },
    {
      "cell_type": "code",
      "execution_count": 10,
      "id": "660ce20d",
      "metadata": {},
      "outputs": [
        {
          "data": {
            "text/plain": [
              "4.0"
            ]
          },
          "execution_count": 10,
          "metadata": {},
          "output_type": "execute_result"
        }
      ],
      "source": [
        "(lambda a, b : (a + b) / (a - b))(5, 3)"
      ]
    },
    {
      "cell_type": "code",
      "execution_count": 12,
      "id": "6141c00c",
      "metadata": {},
      "outputs": [],
      "source": [
        "average = (lambda x, y : (x + y)/2)(3, 5)"
      ]
    },
    {
      "cell_type": "code",
      "execution_count": 13,
      "id": "a4af0222",
      "metadata": {},
      "outputs": [
        {
          "name": "stdout",
          "output_type": "stream",
          "text": [
            "4.0\n"
          ]
        }
      ],
      "source": [
        "print(average)"
      ]
    },
    {
      "cell_type": "code",
      "execution_count": 15,
      "id": "4bf956f0",
      "metadata": {},
      "outputs": [
        {
          "name": "stdout",
          "output_type": "stream",
          "text": [
            "16.5\n"
          ]
        }
      ],
      "source": [
        "multiply = lambda a, b : a * b/2\n",
        "print(multiply(11, 3))"
      ]
    },
    {
      "cell_type": "code",
      "execution_count": 21,
      "id": "32e90180",
      "metadata": {},
      "outputs": [
        {
          "name": "stdout",
          "output_type": "stream",
          "text": [
            "hellohellohello\n"
          ]
        }
      ],
      "source": [
        "echo_world = lambda x : x\n",
        "print(echo_world('hello' * 3))"
      ]
    },
    {
      "cell_type": "code",
      "execution_count": 26,
      "id": "01eacac0",
      "metadata": {},
      "outputs": [
        {
          "name": "stdout",
          "output_type": "stream",
          "text": [
            "<class 'map'>\n",
            "[1, 4, 9, 16, 25]\n",
            "[1, 4, 9, 16, 25]\n"
          ]
        }
      ],
      "source": [
        "iter = [1,2,3,4,5]\n",
        "\n",
        "ret = map(lambda x:x**2, iter)\n",
        "print(type(ret))\n",
        "print(list(ret))\n",
        "\n",
        "print(list(map(lambda x:x**2, iter)))"
      ]
    },
    {
      "cell_type": "code",
      "execution_count": 29,
      "id": "a6f979c2",
      "metadata": {},
      "outputs": [
        {
          "name": "stdout",
          "output_type": "stream",
          "text": [
            "['one', 'six', 'ten', 'two']\n"
          ]
        }
      ],
      "source": [
        "letter1 = ['o', 's', 't', 't']\n",
        "letter2 = ['n', 'i', 'e', 'w']\n",
        "letter3 = ['e', 'x', 'n', 'o']\n",
        "\n",
        "numbers= map(lambda x, y, z: x+y+z, letter1, letter2, letter3)\n",
        "print(list(numbers))"
      ]
    },
    {
      "cell_type": "code",
      "execution_count": 31,
      "id": "9709581c",
      "metadata": {},
      "outputs": [
        {
          "name": "stdout",
          "output_type": "stream",
          "text": [
            "[3, 6, 9, 12, 15]\n"
          ]
        }
      ],
      "source": [
        "number_list=[1, 2, 3, 4, 5]\n",
        "\n",
        "print(list(map(lambda x:x * 3, number_list)))"
      ]
    },
    {
      "cell_type": "code",
      "execution_count": 40,
      "id": "ebeb1d50",
      "metadata": {},
      "outputs": [
        {
          "name": "stdout",
          "output_type": "stream",
          "text": [
            "<class 'filter'>\n",
            "E v e n   n u m b e r s   a r e   :   [0, 2, 4, 6, 8]\n"
          ]
        }
      ],
      "source": [
        "first_ten = [0, 1, 2, 3, 4, 5, 6, 7, 8, 9] \n",
        "\n",
        "even = filter(lambda x:x % 2 == 0, first_ten)\n",
        "print(type(even))\n",
        "print(*\"Even numbers are : \", list(even))"
      ]
    },
    {
      "cell_type": "code",
      "execution_count": 44,
      "id": "4926e674",
      "metadata": {},
      "outputs": [
        {
          "name": "stdout",
          "output_type": "stream",
          "text": [
            "<class 'filter'>\n",
            "['a', 'e', 'i']\n"
          ]
        }
      ],
      "source": [
        "vowel_list = ['a', 'e', 'i', 'o', 'u']\n",
        "first_ten = ['a', 'b', 'c', 'd', 'e', 'f', 'g', 'h', 'i', 'j']\n",
        "\n",
        "vowels = filter(lambda x:True if x in vowel_list else False, first_ten)\n",
        "print(type(vowels))\n",
        "print(list(vowels))"
      ]
    },
    {
      "cell_type": "code",
      "execution_count": 46,
      "id": "3dff2ee3",
      "metadata": {},
      "outputs": [
        {
          "name": "stdout",
          "output_type": "stream",
          "text": [
            "<class 'filter'>\n",
            "[6, 7, 8, 9, 10]\n"
          ]
        }
      ],
      "source": [
        "number_list=[1, 2, 3, 4, 5, 6, 7, 8, 9, 10]\n",
        "convert = filter(lambda x: True if x >= 6 else False, number_list)\n",
        "print(type(convert))\n",
        "print(list(convert))"
      ]
    },
    {
      "cell_type": "code",
      "execution_count": 47,
      "id": "90362ebb",
      "metadata": {},
      "outputs": [
        {
          "name": "stdout",
          "output_type": "stream",
          "text": [
            "125\n"
          ]
        }
      ],
      "source": [
        "def modular_function(n):\n",
        "    return lambda x: x ** n\n",
        "\n",
        "power_of_3 = modular_function(3)\n",
        "print(power_of_3(5))"
      ]
    },
    {
      "cell_type": "code",
      "execution_count": 48,
      "id": "38340c37",
      "metadata": {},
      "outputs": [
        {
          "name": "stdout",
          "output_type": "stream",
          "text": [
            "125\n"
          ]
        }
      ],
      "source": [
        "print((lambda x: x**3)(5))"
      ]
    },
    {
      "cell_type": "code",
      "execution_count": 49,
      "id": "eb31f3aa",
      "metadata": {},
      "outputs": [
        {
          "name": "stdout",
          "output_type": "stream",
          "text": [
            "9.0\n"
          ]
        }
      ],
      "source": [
        "mean = lambda x, y: (x+y)/2\n",
        "print(mean(8, 10))"
      ]
    },
    {
      "cell_type": "code",
      "execution_count": 50,
      "id": "3544d8f8",
      "metadata": {},
      "outputs": [
        {
          "name": "stdout",
          "output_type": "stream",
          "text": [
            "45\n"
          ]
        }
      ],
      "source": [
        "multiply = lambda x: x * 4\n",
        "add = lambda x, y: x + y\n",
        "print(add(multiply(10), 5))"
      ]
    },
    {
      "cell_type": "code",
      "execution_count": 51,
      "id": "ac20b43b",
      "metadata": {},
      "outputs": [
        {
          "name": "stdout",
          "output_type": "stream",
          "text": [
            "[1, 8, 27, 64]\n"
          ]
        }
      ],
      "source": [
        "number_list = [1, 2, 3, 4]\n",
        "result = map(lambda x:x**3, number_list)\n",
        "print(list(result)) "
      ]
    },
    {
      "cell_type": "code",
      "execution_count": 53,
      "id": "be9dd884",
      "metadata": {},
      "outputs": [
        {
          "name": "stdout",
          "output_type": "stream",
          "text": [
            "25\n"
          ]
        }
      ],
      "source": [
        "square = lambda x:x**2\n",
        "print(square(5))"
      ]
    },
    {
      "cell_type": "code",
      "execution_count": 54,
      "id": "0120cffb",
      "metadata": {},
      "outputs": [],
      "source": [
        "number_list=[1, 2, 3, 4, 5, 6, 7, 8, 9, 10]\n",
        "\n",
        "result= list(filter(lambda x : \"odd\" if x % 2 == 1 else \"even\", number_list))"
      ]
    },
    {
      "cell_type": "code",
      "execution_count": 66,
      "id": "54ce2abe",
      "metadata": {},
      "outputs": [],
      "source": [
        "generate = (i ** 2 for i in range(6))"
      ]
    },
    {
      "cell_type": "code",
      "execution_count": 67,
      "id": "1e03a9a9",
      "metadata": {},
      "outputs": [
        {
          "name": "stdout",
          "output_type": "stream",
          "text": [
            "0\n"
          ]
        }
      ],
      "source": [
        "print(next(generate))"
      ]
    },
    {
      "cell_type": "code",
      "execution_count": 68,
      "id": "8d3a7fac",
      "metadata": {},
      "outputs": [
        {
          "name": "stdout",
          "output_type": "stream",
          "text": [
            "1\n"
          ]
        }
      ],
      "source": [
        "print(next(generate))"
      ]
    },
    {
      "cell_type": "code",
      "execution_count": 69,
      "id": "ef0a6624",
      "metadata": {},
      "outputs": [
        {
          "name": "stdout",
          "output_type": "stream",
          "text": [
            "4\n"
          ]
        }
      ],
      "source": [
        "print(next(generate))"
      ]
    },
    {
      "cell_type": "code",
      "execution_count": 74,
      "id": "4fc4178c",
      "metadata": {},
      "outputs": [
        {
          "name": "stdout",
          "output_type": "stream",
          "text": [
            "True\n",
            "False\n",
            "True\n"
          ]
        }
      ],
      "source": [
        "names = [\"susuan\", \"tom\", \"False\"]\n",
        "mood = [\"happy\", \"sad\", 0]\n",
        "empty = {}\n",
        "\n",
        "print(all(names), all(mood), all(empty), sep=\"\\n\")"
      ]
    },
    {
      "cell_type": "code",
      "execution_count": 75,
      "id": "8a73cf45",
      "metadata": {},
      "outputs": [],
      "source": [
        "def add(a, b):\n",
        "    print(a + b)"
      ]
    },
    {
      "cell_type": "code",
      "execution_count": 76,
      "id": "dc7c5592",
      "metadata": {},
      "outputs": [
        {
          "name": "stdout",
          "output_type": "stream",
          "text": [
            "16\n"
          ]
        }
      ],
      "source": [
        "add(5,11)"
      ]
    },
    {
      "cell_type": "code",
      "execution_count": 84,
      "id": "fd1cf890",
      "metadata": {},
      "outputs": [
        {
          "name": "stdout",
          "output_type": "stream",
          "text": [
            "9\n"
          ]
        }
      ],
      "source": [
        "def calculator(x, y, opr):\n",
        "    if opr == \"+\" :\n",
        "        print(x + y)\n",
        "\n",
        "    elif opr == \"-\" :\n",
        "        print(x-y)\n",
        "    \n",
        "    elif opr == \"*\" :\n",
        "        print(x * y)\n",
        "\n",
        "    elif opr == \"/\" :\n",
        "        print(x / y)\n",
        "\n",
        "    else:\n",
        "        print(\"Enter a valid operator\")\n",
        "\n",
        "calculator(4,5,\"+\")"
      ]
    },
    {
      "cell_type": "code",
      "execution_count": 85,
      "id": "308197b0",
      "metadata": {},
      "outputs": [
        {
          "data": {
            "text/plain": [
              "int"
            ]
          },
          "execution_count": 85,
          "metadata": {},
          "output_type": "execute_result"
        }
      ],
      "source": [
        "type(3 +5)"
      ]
    },
    {
      "cell_type": "code",
      "execution_count": 94,
      "id": "4cb28c77",
      "metadata": {},
      "outputs": [
        {
          "name": "stdout",
          "output_type": "stream",
          "text": [
            "iloveyou"
          ]
        }
      ],
      "source": [
        "a = \"i\"\n",
        "b = \"love\"\n",
        "c = \"you\"\n",
        "\n",
        "def texter(a, b, c):\n",
        "    print(b + c + a, end=\"\")\n",
        "\n",
        "\n",
        "texter(c, a, b)"
      ]
    }
  ],
  "metadata": {
    "colab": {
      "collapsed_sections": [],
      "name": "11_Mart_2022_Python_Workshop__.ipynb",
      "provenance": []
    },
    "hide_input": false,
    "kernelspec": {
      "display_name": "Python 3 (ipykernel)",
      "language": "python",
      "name": "python3"
    },
    "language_info": {
      "codemirror_mode": {
        "name": "ipython",
        "version": 3
      },
      "file_extension": ".py",
      "mimetype": "text/x-python",
      "name": "python",
      "nbconvert_exporter": "python",
      "pygments_lexer": "ipython3",
      "version": "3.10.2"
    },
    "nbTranslate": {
      "displayLangs": [
        "tr",
        "en"
      ],
      "hotkey": "alt-t",
      "langInMainMenu": true,
      "sourceLang": "en",
      "targetLang": "tr",
      "useGoogleTranslate": true
    },
    "toc": {
      "base_numbering": 1,
      "nav_menu": {},
      "number_sections": true,
      "sideBar": true,
      "skip_h1_title": false,
      "title_cell": "Table of Contents",
      "title_sidebar": "Contents",
      "toc_cell": false,
      "toc_position": {
        "height": "calc(100% - 180px)",
        "left": "10px",
        "top": "150px",
        "width": "165px"
      },
      "toc_section_display": true,
      "toc_window_display": true
    },
    "varInspector": {
      "cols": {
        "lenName": 16,
        "lenType": 16,
        "lenVar": 40
      },
      "kernels_config": {
        "python": {
          "delete_cmd_postfix": "",
          "delete_cmd_prefix": "del ",
          "library": "var_list.py",
          "varRefreshCmd": "print(var_dic_list())"
        },
        "r": {
          "delete_cmd_postfix": ") ",
          "delete_cmd_prefix": "rm(",
          "library": "var_list.r",
          "varRefreshCmd": "cat(var_dic_list()) "
        }
      },
      "types_to_exclude": [
        "module",
        "function",
        "builtin_function_or_method",
        "instance",
        "_Feature"
      ],
      "window_display": false
    }
  },
  "nbformat": 4,
  "nbformat_minor": 5
}
