{
  "cells": [
    {
      "cell_type": "markdown",
      "metadata": {
        "id": "view-in-github",
        "colab_type": "text"
      },
      "source": [
        "<a href=\"https://colab.research.google.com/github/SuleymanBat/FUNCTIONS/blob/main/class_example_play.ipynb\" target=\"_parent\"><img src=\"https://colab.research.google.com/assets/colab-badge.svg\" alt=\"Open In Colab\"/></a>"
      ]
    },
    {
      "cell_type": "code",
      "execution_count": null,
      "metadata": {
        "id": "zwWFkFJrQsev"
      },
      "outputs": [],
      "source": [
        "import random, os\n",
        "\n",
        "class Enemy():\n",
        "    def __init__(self):\n",
        "        self.isalive = True\n",
        "        self.health = random.randint(30,70)\n",
        "        self.shield = random.randint(0,10)\n",
        "        self.power = random.randint(20,50)\n",
        "\n",
        "    def attack(self,player):\n",
        "        damage = self.power - player.shield\n",
        "        player.health -= damage\n",
        "        if player.health <= 0:\n",
        "            player.isalive <= False\n",
        "\n",
        "\n",
        "class Player():\n",
        "    def __init__(self):\n",
        "        self.isalive = True\n",
        "        self.health = 500\n",
        "        self.shield = 20\n",
        "        self.power = 55\n",
        "\n",
        "    def attack(self,enemy):\n",
        "        damage = self.power - enemy.shield\n",
        "        enemy.health -= damage\n",
        "        if enemy.health <= 0:\n",
        "            enemy.isalive = False\n",
        "            enemies.remove(enemy)\n",
        "\n",
        "\n",
        "enemies = list()\n",
        "for i in range(10):\n",
        "    enemies.append(Enemy())\n",
        "\n",
        "while True:\n",
        "    for i in enemies:\n",
        "        print(i.health)\n",
        "    break\n",
        "\n",
        "player = Player()\n",
        "\n",
        "while True:\n",
        "    os.system(\"cls\")\n",
        "    print(\"Player -->>> Health: {}   -----Power: {}   -----Shield: {}\".format(player.health, player.power, player.shield))\n",
        "    if player.isalive == False:\n",
        "        print(\"GAME OVER! :\")\n",
        "        quit()\n",
        "    \n",
        "    if not enemies:\n",
        "        print(\"CONGRATULATIONS!!!!\")\n",
        "        quit()\n",
        "\n",
        "    for i in enemies:\n",
        "        print(\"{}.Enemy -->>> Health: {}   -----Power: {}   -----Shield: {}\".format(enemies.index(i), i.health, i.power, i.shield))\n",
        "    \n",
        "    valje = int(input(\"Valje enemy: \"))\n",
        "    enemy = enemies[valje]\n",
        "    player.attack(enemy)\n",
        "    if enemies:\n",
        "        sniper = enemies[random.randint(0, len(enemies) -1)]\n",
        "        sniper.attack(player)"
      ]
    },
    {
      "cell_type": "code",
      "execution_count": null,
      "metadata": {
        "id": "wrBx47fPQse4"
      },
      "outputs": [],
      "source": [
        ""
      ]
    }
  ],
  "metadata": {
    "interpreter": {
      "hash": "832846a74a0590b51c6a03d6e85366ed32ab2ada9d1f0302b9699cda738154f0"
    },
    "kernelspec": {
      "display_name": "Python 3.10.2 64-bit",
      "language": "python",
      "name": "python3"
    },
    "language_info": {
      "codemirror_mode": {
        "name": "ipython",
        "version": 3
      },
      "file_extension": ".py",
      "mimetype": "text/x-python",
      "name": "python",
      "nbconvert_exporter": "python",
      "pygments_lexer": "ipython3",
      "version": "3.10.2"
    },
    "orig_nbformat": 4,
    "colab": {
      "name": "class_example_play.ipynb",
      "provenance": [],
      "include_colab_link": true
    }
  },
  "nbformat": 4,
  "nbformat_minor": 0
}